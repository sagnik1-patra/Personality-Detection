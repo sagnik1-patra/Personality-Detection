{
 "cells": [
  {
   "cell_type": "code",
   "execution_count": 6,
   "id": "ebb4d87e-7eb0-4423-a2f0-ec24d1ac36f8",
   "metadata": {},
   "outputs": [
    {
     "name": "stdout",
     "output_type": "stream",
     "text": [
      "Epoch 1/10\n"
     ]
    },
    {
     "name": "stderr",
     "output_type": "stream",
     "text": [
      "C:\\Users\\sagni\\AppData\\Local\\Programs\\Python\\Python311\\Lib\\site-packages\\keras\\src\\layers\\core\\dense.py:93: UserWarning: Do not pass an `input_shape`/`input_dim` argument to a layer. When using Sequential models, prefer using an `Input(shape)` object as the first layer in the model instead.\n",
      "  super().__init__(activity_regularizer=activity_regularizer, **kwargs)\n"
     ]
    },
    {
     "name": "stdout",
     "output_type": "stream",
     "text": [
      "\u001b[1m217/217\u001b[0m \u001b[32m━━━━━━━━━━━━━━━━━━━━\u001b[0m\u001b[37m\u001b[0m \u001b[1m3s\u001b[0m 6ms/step - accuracy: 0.2517 - loss: 2.2706 - val_accuracy: 0.4957 - val_loss: 1.7054\n",
      "Epoch 2/10\n",
      "\u001b[1m217/217\u001b[0m \u001b[32m━━━━━━━━━━━━━━━━━━━━\u001b[0m\u001b[37m\u001b[0m \u001b[1m1s\u001b[0m 5ms/step - accuracy: 0.5504 - loss: 1.5169 - val_accuracy: 0.5816 - val_loss: 1.3882\n",
      "Epoch 3/10\n",
      "\u001b[1m217/217\u001b[0m \u001b[32m━━━━━━━━━━━━━━━━━━━━\u001b[0m\u001b[37m\u001b[0m \u001b[1m1s\u001b[0m 5ms/step - accuracy: 0.6473 - loss: 1.2102 - val_accuracy: 0.6271 - val_loss: 1.2860\n",
      "Epoch 4/10\n",
      "\u001b[1m217/217\u001b[0m \u001b[32m━━━━━━━━━━━━━━━━━━━━\u001b[0m\u001b[37m\u001b[0m \u001b[1m1s\u001b[0m 5ms/step - accuracy: 0.7157 - loss: 0.9884 - val_accuracy: 0.6086 - val_loss: 1.2957\n",
      "Epoch 5/10\n",
      "\u001b[1m217/217\u001b[0m \u001b[32m━━━━━━━━━━━━━━━━━━━━\u001b[0m\u001b[37m\u001b[0m \u001b[1m1s\u001b[0m 5ms/step - accuracy: 0.7416 - loss: 0.8829 - val_accuracy: 0.6265 - val_loss: 1.2751\n",
      "Epoch 6/10\n",
      "\u001b[1m217/217\u001b[0m \u001b[32m━━━━━━━━━━━━━━━━━━━━\u001b[0m\u001b[37m\u001b[0m \u001b[1m1s\u001b[0m 5ms/step - accuracy: 0.7877 - loss: 0.7483 - val_accuracy: 0.6398 - val_loss: 1.2512\n",
      "Epoch 7/10\n",
      "\u001b[1m217/217\u001b[0m \u001b[32m━━━━━━━━━━━━━━━━━━━━\u001b[0m\u001b[37m\u001b[0m \u001b[1m1s\u001b[0m 5ms/step - accuracy: 0.8017 - loss: 0.6689 - val_accuracy: 0.6375 - val_loss: 1.3411\n",
      "Epoch 8/10\n",
      "\u001b[1m217/217\u001b[0m \u001b[32m━━━━━━━━━━━━━━━━━━━━\u001b[0m\u001b[37m\u001b[0m \u001b[1m1s\u001b[0m 5ms/step - accuracy: 0.8230 - loss: 0.6006 - val_accuracy: 0.6334 - val_loss: 1.3596\n",
      "Epoch 9/10\n",
      "\u001b[1m217/217\u001b[0m \u001b[32m━━━━━━━━━━━━━━━━━━━━\u001b[0m\u001b[37m\u001b[0m \u001b[1m1s\u001b[0m 5ms/step - accuracy: 0.8550 - loss: 0.4909 - val_accuracy: 0.6225 - val_loss: 1.4329\n"
     ]
    },
    {
     "name": "stderr",
     "output_type": "stream",
     "text": [
      "WARNING:absl:You are saving your model as an HDF5 file via `model.save()` or `keras.saving.save_model(model)`. This file format is considered legacy. We recommend using instead the native Keras format, e.g. `model.save('my_model.keras')` or `keras.saving.save_model(model, 'my_model.keras')`. \n"
     ]
    },
    {
     "name": "stdout",
     "output_type": "stream",
     "text": [
      "✅ Model saved to .h5: C:\\Users\\sagni\\Downloads\\New folder\\personality_estimator.h5\n",
      "INFO:tensorflow:Assets written to: C:\\Users\\sagni\\Downloads\\New folder\\personality_estimator_savedmodel\\assets\n"
     ]
    },
    {
     "name": "stderr",
     "output_type": "stream",
     "text": [
      "INFO:tensorflow:Assets written to: C:\\Users\\sagni\\Downloads\\New folder\\personality_estimator_savedmodel\\assets\n"
     ]
    },
    {
     "name": "stdout",
     "output_type": "stream",
     "text": [
      "Saved artifact at 'C:\\Users\\sagni\\Downloads\\New folder\\personality_estimator_savedmodel'. The following endpoints are available:\n",
      "\n",
      "* Endpoint 'serve'\n",
      "  args_0 (POSITIONAL_ONLY): TensorSpec(shape=(None, 1000), dtype=tf.float32, name='keras_tensor_12')\n",
      "Output Type:\n",
      "  TensorSpec(shape=(None, 16), dtype=tf.float32, name=None)\n",
      "Captures:\n",
      "  2897358895248: TensorSpec(shape=(), dtype=tf.resource, name=None)\n",
      "  2897358895824: TensorSpec(shape=(), dtype=tf.resource, name=None)\n",
      "  2899911639696: TensorSpec(shape=(), dtype=tf.resource, name=None)\n",
      "  2899911639504: TensorSpec(shape=(), dtype=tf.resource, name=None)\n",
      "  2899941917520: TensorSpec(shape=(), dtype=tf.resource, name=None)\n",
      "  2899941919056: TensorSpec(shape=(), dtype=tf.resource, name=None)\n",
      "✅ Model exported to directory: C:\\Users\\sagni\\Downloads\\New folder\\personality_estimator_savedmodel\n"
     ]
    }
   ],
   "source": [
    "import pandas as pd\n",
    "import numpy as np\n",
    "from sklearn.model_selection import train_test_split\n",
    "from sklearn.preprocessing import LabelEncoder\n",
    "from keras.models import Sequential\n",
    "from keras.layers import Dense, Dropout\n",
    "from keras.utils import to_categorical\n",
    "from keras.callbacks import EarlyStopping\n",
    "from keras.models import load_model\n",
    "import os\n",
    "\n",
    "# 📂 Load the dataset\n",
    "file_path = r\"C:\\Users\\sagni\\Downloads\\New folder\\mbti_1.csv\"\n",
    "data = pd.read_csv(file_path)\n",
    "\n",
    "# ✂️ Drop missing values\n",
    "data.dropna(inplace=True)\n",
    "\n",
    "# 🧠 Preprocess text to get word counts (simplified)\n",
    "data['text'] = data['posts'].str.replace(r'\\|\\|\\|', ' ', regex=True).str.lower()\n",
    "\n",
    "# 🔠 Encode target\n",
    "le = LabelEncoder()\n",
    "data['target'] = le.fit_transform(data['type'])\n",
    "\n",
    "# ✂️ Input and output\n",
    "X = data['text']\n",
    "y = to_categorical(data['target'])\n",
    "\n",
    "# ✏️ Convert text to simple TF-IDF features\n",
    "from sklearn.feature_extraction.text import TfidfVectorizer\n",
    "vectorizer = TfidfVectorizer(max_features=1000)\n",
    "X_vectorized = vectorizer.fit_transform(X).toarray()\n",
    "\n",
    "# 🔪 Train-test split\n",
    "X_train, X_test, y_train, y_test = train_test_split(X_vectorized, y, test_size=0.2, random_state=42)\n",
    "\n",
    "# 🧠 Build the model\n",
    "model = Sequential()\n",
    "model.add(Dense(512, input_dim=1000, activation='relu'))\n",
    "model.add(Dropout(0.3))\n",
    "model.add(Dense(256, activation='relu'))\n",
    "model.add(Dropout(0.3))\n",
    "model.add(Dense(16, activation='softmax'))  # 16 MBTI types\n",
    "\n",
    "model.compile(loss='categorical_crossentropy', optimizer='adam', metrics=['accuracy'])\n",
    "\n",
    "# 🛑 Early stopping\n",
    "early_stop = EarlyStopping(monitor='val_loss', patience=3)\n",
    "\n",
    "# 🚆 Train the model\n",
    "model.fit(X_train, y_train, validation_data=(X_test, y_test), epochs=10, batch_size=32, callbacks=[early_stop])\n",
    "\n",
    "# ✅ Save the model in .h5 format\n",
    "output_model_h5 = r\"C:\\Users\\sagni\\Downloads\\New folder\\personality_estimator.h5\"\n",
    "model.save(output_model_h5)\n",
    "print(f\"✅ Model saved to .h5: {output_model_h5}\")\n",
    "\n",
    "# ✅ Export the model as TensorFlow SavedModel (alternative)\n",
    "output_model_dir = r\"C:\\Users\\sagni\\Downloads\\New folder\\personality_estimator_savedmodel\"\n",
    "model.export(output_model_dir)  # Use export() instead of save()\n",
    "print(f\"✅ Model exported to directory: {output_model_dir}\")\n"
   ]
  },
  {
   "cell_type": "code",
   "execution_count": null,
   "id": "fce08f82-d7d5-4bbc-8f8d-e70f608b85e7",
   "metadata": {},
   "outputs": [],
   "source": []
  }
 ],
 "metadata": {
  "kernelspec": {
   "display_name": "Python 3.11 (moviepy)",
   "language": "python",
   "name": "py311"
  },
  "language_info": {
   "codemirror_mode": {
    "name": "ipython",
    "version": 3
   },
   "file_extension": ".py",
   "mimetype": "text/x-python",
   "name": "python",
   "nbconvert_exporter": "python",
   "pygments_lexer": "ipython3",
   "version": "3.11.9"
  }
 },
 "nbformat": 4,
 "nbformat_minor": 5
}
