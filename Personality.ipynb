{
 "cells": [
  {
   "cell_type": "code",
   "execution_count": 3,
   "id": "2d0dbef8-216e-4c15-8b18-85d025f0674c",
   "metadata": {},
   "outputs": [
    {
     "name": "stdout",
     "output_type": "stream",
     "text": [
      "Epoch 1/5\n"
     ]
    },
    {
     "name": "stderr",
     "output_type": "stream",
     "text": [
      "C:\\Users\\sagni\\AppData\\Local\\Programs\\Python\\Python311\\Lib\\site-packages\\keras\\src\\layers\\core\\embedding.py:97: UserWarning: Argument `input_length` is deprecated. Just remove it.\n",
      "  warnings.warn(\n"
     ]
    },
    {
     "name": "stdout",
     "output_type": "stream",
     "text": [
      "\u001b[1m55/55\u001b[0m \u001b[32m━━━━━━━━━━━━━━━━━━━━\u001b[0m\u001b[37m\u001b[0m \u001b[1m14s\u001b[0m 164ms/step - accuracy: 0.1475 - loss: 2.6291 - val_accuracy: 0.2133 - val_loss: 2.3134\n",
      "Epoch 2/5\n",
      "\u001b[1m55/55\u001b[0m \u001b[32m━━━━━━━━━━━━━━━━━━━━\u001b[0m\u001b[37m\u001b[0m \u001b[1m7s\u001b[0m 135ms/step - accuracy: 0.1844 - loss: 2.3548 - val_accuracy: 0.2133 - val_loss: 2.2933\n",
      "Epoch 3/5\n",
      "\u001b[1m55/55\u001b[0m \u001b[32m━━━━━━━━━━━━━━━━━━━━\u001b[0m\u001b[37m\u001b[0m \u001b[1m7s\u001b[0m 136ms/step - accuracy: 0.1941 - loss: 2.3078 - val_accuracy: 0.2173 - val_loss: 2.3065\n",
      "Epoch 4/5\n",
      "\u001b[1m55/55\u001b[0m \u001b[32m━━━━━━━━━━━━━━━━━━━━\u001b[0m\u001b[37m\u001b[0m \u001b[1m8s\u001b[0m 138ms/step - accuracy: 0.2136 - loss: 2.1977 - val_accuracy: 0.2225 - val_loss: 2.3222\n",
      "Epoch 5/5\n",
      "\u001b[1m55/55\u001b[0m \u001b[32m━━━━━━━━━━━━━━━━━━━━\u001b[0m\u001b[37m\u001b[0m \u001b[1m8s\u001b[0m 138ms/step - accuracy: 0.2714 - loss: 2.0612 - val_accuracy: 0.2173 - val_loss: 2.4131\n"
     ]
    },
    {
     "name": "stderr",
     "output_type": "stream",
     "text": [
      "WARNING:absl:You are saving your model as an HDF5 file via `model.save()` or `keras.saving.save_model(model)`. This file format is considered legacy. We recommend using instead the native Keras format, e.g. `model.save('my_model.keras')` or `keras.saving.save_model(model, 'my_model.keras')`. \n"
     ]
    },
    {
     "name": "stdout",
     "output_type": "stream",
     "text": [
      "✅ Model saved to: C:\\Users\\sagni\\Downloads\\New folder\\personality_estimator.h5\n",
      "✅ Tokenizer saved to: C:\\Users\\sagni\\Downloads\\New folder\\tokenizer.joblib\n"
     ]
    }
   ],
   "source": [
    "import pandas as pd\n",
    "import numpy as np\n",
    "import os\n",
    "import joblib\n",
    "from tensorflow.keras.preprocessing.text import Tokenizer\n",
    "from tensorflow.keras.preprocessing.sequence import pad_sequences\n",
    "from tensorflow.keras.models import Sequential\n",
    "from tensorflow.keras.layers import Embedding, LSTM, Dense, Dropout\n",
    "from tensorflow.keras.utils import to_categorical\n",
    "from sklearn.preprocessing import LabelEncoder\n",
    "from sklearn.model_selection import train_test_split\n",
    "\n",
    "# === Paths ===\n",
    "dataset_path = r\"C:\\Users\\sagni\\Downloads\\New folder\\mbti_1.csv\"\n",
    "model_path = r\"C:\\Users\\sagni\\Downloads\\New folder\\personality_estimator.h5\"\n",
    "tokenizer_path = r\"C:\\Users\\sagni\\Downloads\\New folder\\tokenizer.joblib\"\n",
    "\n",
    "# === Load dataset ===\n",
    "df = pd.read_csv(dataset_path)\n",
    "\n",
    "# === Basic preprocessing ===\n",
    "df = df[['type', 'posts']]\n",
    "df['posts'] = df['posts'].astype(str)\n",
    "\n",
    "# === Encode labels ===\n",
    "le = LabelEncoder()\n",
    "df['label'] = le.fit_transform(df['type'])\n",
    "joblib.dump(le, os.path.join(os.path.dirname(model_path), 'label_encoder.joblib'))\n",
    "\n",
    "# === Tokenize text ===\n",
    "max_words = 10000\n",
    "max_len = 200\n",
    "\n",
    "tokenizer = Tokenizer(num_words=max_words, oov_token=\"<OOV>\")\n",
    "tokenizer.fit_on_texts(df['posts'])\n",
    "joblib.dump(tokenizer, tokenizer_path)  # ✅ Save tokenizer\n",
    "\n",
    "sequences = tokenizer.texts_to_sequences(df['posts'])\n",
    "X = pad_sequences(sequences, maxlen=max_len)\n",
    "\n",
    "# === Prepare labels ===\n",
    "y = to_categorical(df['label'])\n",
    "\n",
    "# === Train-test split ===\n",
    "X_train, X_test, y_train, y_test = train_test_split(X, y, test_size=0.2, random_state=42)\n",
    "\n",
    "# === Build model ===\n",
    "model = Sequential([\n",
    "    Embedding(input_dim=max_words, output_dim=128, input_length=max_len),\n",
    "    LSTM(64, return_sequences=False),\n",
    "    Dropout(0.3),\n",
    "    Dense(32, activation='relu'),\n",
    "    Dropout(0.3),\n",
    "    Dense(y.shape[1], activation='softmax')\n",
    "])\n",
    "\n",
    "model.compile(loss='categorical_crossentropy', optimizer='adam', metrics=['accuracy'])\n",
    "\n",
    "# === Train ===\n",
    "model.fit(X_train, y_train, validation_data=(X_test, y_test), epochs=5, batch_size=128)\n",
    "\n",
    "# === Save model ===\n",
    "model.save(model_path)\n",
    "print(f\"✅ Model saved to: {model_path}\")\n",
    "print(f\"✅ Tokenizer saved to: {tokenizer_path}\")\n"
   ]
  },
  {
   "cell_type": "code",
   "execution_count": 4,
   "id": "d7d2b892-ce18-4519-a208-5c65d3048e7c",
   "metadata": {},
   "outputs": [
    {
     "name": "stderr",
     "output_type": "stream",
     "text": [
      "WARNING:absl:Compiled the loaded model, but the compiled metrics have yet to be built. `model.compile_metrics` will be empty until you train or evaluate the model.\n"
     ]
    },
    {
     "name": "stdout",
     "output_type": "stream",
     "text": [
      "✅ Model loaded from: C:\\Users\\sagni\\Downloads\\New folder\\personality_estimator.h5\n",
      "✅ Tokenizer loaded from: C:\\Users\\sagni\\Downloads\\New folder\\tokenizer.joblib\n"
     ]
    },
    {
     "name": "stdin",
     "output_type": "stream",
     "text": [
      "\n",
      "📝 Enter text for personality prediction (or type 'exit' to quit):\n",
      ">  I love to spend time thinking about the mysteries of life and enjoy deep conversations.\n"
     ]
    },
    {
     "name": "stdout",
     "output_type": "stream",
     "text": [
      "\u001b[1m1/1\u001b[0m \u001b[32m━━━━━━━━━━━━━━━━━━━━\u001b[0m\u001b[37m\u001b[0m \u001b[1m1s\u001b[0m 758ms/step\n",
      "\n",
      "🔍 Predicted MBTI Type: ISFJ (Confidence: 0.75)\n"
     ]
    },
    {
     "name": "stdin",
     "output_type": "stream",
     "text": [
      "\n",
      "📝 Enter text for personality prediction (or type 'exit' to quit):\n",
      ">  i am ver scared of the dark.\n"
     ]
    },
    {
     "name": "stdout",
     "output_type": "stream",
     "text": [
      "\u001b[1m1/1\u001b[0m \u001b[32m━━━━━━━━━━━━━━━━━━━━\u001b[0m\u001b[37m\u001b[0m \u001b[1m0s\u001b[0m 87ms/step\n",
      "\n",
      "🔍 Predicted MBTI Type: ISFJ (Confidence: 0.81)\n"
     ]
    },
    {
     "name": "stdin",
     "output_type": "stream",
     "text": [
      "\n",
      "📝 Enter text for personality prediction (or type 'exit' to quit):\n",
      ">  exit\n"
     ]
    },
    {
     "name": "stdout",
     "output_type": "stream",
     "text": [
      "👋 Exiting...\n"
     ]
    }
   ],
   "source": [
    "import numpy as np\n",
    "from tensorflow.keras.models import load_model\n",
    "from tensorflow.keras.preprocessing.sequence import pad_sequences\n",
    "from tensorflow.keras.preprocessing.text import Tokenizer\n",
    "import re\n",
    "import string\n",
    "import joblib\n",
    "\n",
    "# === Load the trained model ===\n",
    "model_path = r\"C:\\Users\\sagni\\Downloads\\New folder\\personality_estimator.h5\"\n",
    "model = load_model(model_path)\n",
    "print(f\"✅ Model loaded from: {model_path}\")\n",
    "\n",
    "# === Load tokenizer ===\n",
    "tokenizer_path = r\"C:\\Users\\sagni\\Downloads\\New folder\\tokenizer.joblib\"\n",
    "tokenizer = joblib.load(tokenizer_path)\n",
    "print(f\"✅ Tokenizer loaded from: {tokenizer_path}\")\n",
    "\n",
    "# === Constants ===\n",
    "max_len = 1000  # this must match training value\n",
    "\n",
    "# === MBTI label map (adjust based on your training setup) ===\n",
    "label_map = {\n",
    "    0: \"INTJ\", 1: \"INTP\", 2: \"ENTJ\", 3: \"ENTP\",\n",
    "    4: \"INFJ\", 5: \"INFP\", 6: \"ENFJ\", 7: \"ENFP\",\n",
    "    8: \"ISTJ\", 9: \"ISFJ\", 10: \"ESTJ\", 11: \"ESFJ\",\n",
    "    12: \"ISTP\", 13: \"ISFP\", 14: \"ESTP\", 15: \"ESFP\"\n",
    "}\n",
    "\n",
    "# === Text cleaning function ===\n",
    "def clean_text(text):\n",
    "    text = text.lower()\n",
    "    text = re.sub(r\"http\\S+\", \"\", text)\n",
    "    text = text.translate(str.maketrans(\"\", \"\", string.punctuation))\n",
    "    text = re.sub(r\"\\d+\", \"\", text)\n",
    "    text = text.strip()\n",
    "    return text\n",
    "\n",
    "# === Prediction function ===\n",
    "def predict_mbti(text):\n",
    "    cleaned = clean_text(text)\n",
    "    seq = tokenizer.texts_to_sequences([cleaned])\n",
    "    padded = pad_sequences(seq, maxlen=max_len)\n",
    "    pred = model.predict(padded)[0]\n",
    "    mbti_idx = np.argmax(pred)\n",
    "    return label_map[mbti_idx], float(np.max(pred))\n",
    "\n",
    "# === Prediction loop ===\n",
    "while True:\n",
    "    user_input = input(\"\\n📝 Enter text for personality prediction (or type 'exit' to quit):\\n> \")\n",
    "    if user_input.strip().lower() == \"exit\":\n",
    "        print(\"👋 Exiting...\")\n",
    "        break\n",
    "    try:\n",
    "        mbti, confidence = predict_mbti(user_input)\n",
    "        print(f\"\\n🔍 Predicted MBTI Type: {mbti} (Confidence: {confidence:.2f})\")\n",
    "    except Exception as e:\n",
    "        print(f\"❌ Error: {e}\")\n"
   ]
  },
  {
   "cell_type": "code",
   "execution_count": null,
   "id": "05587253-163b-42f7-9970-3c13d2f7ec70",
   "metadata": {},
   "outputs": [],
   "source": []
  }
 ],
 "metadata": {
  "kernelspec": {
   "display_name": "Python 3.11 (moviepy)",
   "language": "python",
   "name": "py311"
  },
  "language_info": {
   "codemirror_mode": {
    "name": "ipython",
    "version": 3
   },
   "file_extension": ".py",
   "mimetype": "text/x-python",
   "name": "python",
   "nbconvert_exporter": "python",
   "pygments_lexer": "ipython3",
   "version": "3.11.9"
  }
 },
 "nbformat": 4,
 "nbformat_minor": 5
}
